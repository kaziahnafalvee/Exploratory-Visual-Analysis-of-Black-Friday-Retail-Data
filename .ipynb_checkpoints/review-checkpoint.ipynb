{
 "cells": [
  {
   "cell_type": "markdown",
   "metadata": {
    "slideshow": {
     "slide_type": ""
    },
    "tags": []
   },
   "source": [
    "# COMP 6934 W 25 Review\n",
    "\n",
    "Munzner's *How* design technique and methods - Part II - More Idioms.\n",
    "\n",
    "Continuing [Tamara Munzner's text](https://www.cs.ubc.ca/~tmm/vadbook/). "
   ]
  },
  {
   "cell_type": "code",
   "execution_count": 2,
   "metadata": {},
   "outputs": [],
   "source": [
    "chap7slides = [240, 596, 59] + list(range(241, 301))"
   ]
  },
  {
   "cell_type": "markdown",
   "metadata": {},
   "source": [
    "## Quick overview of other idioms..\n",
    "\n",
    "examples at https://observablehq.com/@d3/gallery"
   ]
  },
  {
   "cell_type": "code",
   "execution_count": 67,
   "metadata": {},
   "outputs": [],
   "source": [
    "### after midterm\n",
    "\n",
    "otherSlides = [103, 105, 301, 239, 311, 312, 317, 319, 326, 330, 331, 333, 336, 341, 342, 350, 352, 355, 357, 364, 371, 380, 388, 406, 420, 448, 465, 466, 469, 165, 166, 170, 470, 472, 477, 481, 487, 493, 500, 505, 531, 543, 550, 553]"
   ]
  },
  {
   "cell_type": "code",
   "execution_count": 103,
   "metadata": {},
   "outputs": [],
   "source": [
    "# code to use Tamara Munzner's book slides\n",
    "# This the slide viewer mentioned earlier.\n",
    "from IPython.display import Image\n",
    "\n",
    "folder=\"slides2021munzner/\"\n",
    "def Munzner21slide(no):  \n",
    "    return folder+\"slide-{:03d}.jpg\".format(no)\n",
    "\n",
    "\n",
    "slide_no=0\n",
    "slide_list=[Munzner21slide(v) for v in otherSlides]"
   ]
  },
  {
   "cell_type": "code",
   "execution_count": 148,
   "metadata": {},
   "outputs": [
    {
     "data": {
      "text/html": [
       "<img src=\"slides2021munzner/slide-103.jpg\"/>"
      ],
      "text/plain": [
       "<IPython.core.display.Image object>"
      ]
     },
     "metadata": {},
     "output_type": "display_data"
    }
   ],
   "source": [
    "# Show the slide and increment slide_no for the next one.\n",
    "display(Image(url=slide_list[slide_no]))\n",
    "slide_no = (slide_no +1) % len(slide_list)\n"
   ]
  },
  {
   "cell_type": "code",
   "execution_count": 10,
   "metadata": {},
   "outputs": [],
   "source": [
    "slide_no -= 2 # backup slide no."
   ]
  }
 ],
 "metadata": {
  "kernelspec": {
   "display_name": "Python 3 (ipykernel)",
   "language": "python",
   "name": "python3"
  },
  "language_info": {
   "codemirror_mode": {
    "name": "ipython",
    "version": 3
   },
   "file_extension": ".py",
   "mimetype": "text/x-python",
   "name": "python",
   "nbconvert_exporter": "python",
   "pygments_lexer": "ipython3",
   "version": "3.12.3"
  }
 },
 "nbformat": 4,
 "nbformat_minor": 4
}
