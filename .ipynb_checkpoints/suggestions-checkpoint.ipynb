{
 "cells": [
  {
   "cell_type": "markdown",
   "id": "e4df71da-cabd-46ea-8a54-d35127de3569",
   "metadata": {},
   "source": [
    "\n",
    "\n"
   ]
  },
  {
   "cell_type": "markdown",
   "id": "936c5591-f750-49ee-9697-d785a9cf13ce",
   "metadata": {},
   "source": [
    "## COMP 6934 W25 Project Dataset Suggestions\n"
   ]
  },
  {
   "cell_type": "markdown",
   "id": "9418c25a-b76f-4dfd-86cd-9f27bdbfd76e",
   "metadata": {},
   "source": [
    "### Datasets suggestions with client\n",
    "\n",
    "I will put you in touch with these clients. They will have to approve working with you.\n",
    "\n",
    "* **Client MK1** Pressure changes with isotherm data\n",
    "* **Client MK2** Time and gas composition instrument readings\n",
    "* **Client MK3** Contour platting for electron density maps\n",
    "* **Client HJC** creation of a digital elevation model from 3D photogrammetric model. This will involve software packages not covered this course, but I can give some pointers. Some extra challenges, but perfect for a student who already has some 3D rendering experience, perhaps in the games context. Or someone eager to learn 3D. The clinet is using Metashape Pro.\n",
    "* **Client CF** involves combining geophysical survey data with 3D computer models of the subsurface of the Earth. They want a fly-through effect, so this will also involve learning some 3D software packages.\n",
    "* **Client EJK** is a multiparameter set describing the amount of radiation used and the parameters selected for various anatomical radiology studies"
   ]
  },
  {
   "cell_type": "markdown",
   "id": "166b6228-1b2d-4c55-abb7-72fd87b40f9c",
   "metadata": {},
   "source": [
    "### Datasets without client\n",
    "\n",
    "* https://www.gapminder.org/ gapminder data. Challenge to do something new here!\n",
    "    * There are a number of datasets to choose from here\n",
    "* https://ourworldindata.org/ Our World in Data. challenge to improve on their visuals!\n",
    "    * There are a number of datasets to choose from here\n",
    "* https://data.worldbank.org/  World Bank Data\n",
    "* https://hub.arcgis.com/search for geograhic data sets, if geo is your passion.\n",
    "* https://www.kaggle.com/ Kaggle has a lot of datasets, with many analyses notebooks, but be careful:\n",
    "    * kaggle is about data analytics and ML, so not all datasets are good for vis\n",
    "    * so make sure the dataset meets the criterion set out in the proposal instructions notebook.\n",
    "\n"
   ]
  },
  {
   "cell_type": "markdown",
   "id": "1c92d433-7536-42c5-ba22-d889a1746f20",
   "metadata": {},
   "source": [
    "## Submit your choice\n",
    "\n",
    "https://www.cs.mun.ca/~brown/6934/signupProject/projselect.php"
   ]
  }
 ],
 "metadata": {
  "kernelspec": {
   "display_name": "Python 3 (ipykernel)",
   "language": "python",
   "name": "python3"
  },
  "language_info": {
   "codemirror_mode": {
    "name": "ipython",
    "version": 3
   },
   "file_extension": ".py",
   "mimetype": "text/x-python",
   "name": "python",
   "nbconvert_exporter": "python",
   "pygments_lexer": "ipython3",
   "version": "3.12.3"
  }
 },
 "nbformat": 4,
 "nbformat_minor": 5
}
