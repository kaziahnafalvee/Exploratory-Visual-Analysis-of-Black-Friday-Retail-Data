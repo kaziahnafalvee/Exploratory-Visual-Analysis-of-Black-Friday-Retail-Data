{
 "cells": [
  {
   "cell_type": "markdown",
   "metadata": {},
   "source": [
    "## Project Proposal COMP 6934 W25\n",
    "\n",
    "Your term project will be visualization designs for a selected dataset.\n",
    "\n",
    "The final project will include\n",
    "\n",
    "* A minimum of three visualizations. One of the visualizations should demonstrate an original design incorporating animation or interaction in a creative manner.\n",
    "* A complete analysis in the manner of assignment 2 will be expected, including:\n",
    "    * introduction to the data sources and data set\n",
    "    * data analysis incorporating a *what* methodology\n",
    "    * purposes and goals of the visualization project, driven by client questions and needs, and incorporating a Munzner-style *why* methods\n",
    "* A section for each visual design used, including code, discussion of the design motivation for each visual design, incorporating idioms, *how* analysis, and sources of inspiration such as existing designs or gallery entries.\n",
    "* A conclusion discussing the success of the visualizations and suggestions for improvement."
   ]
  },
  {
   "cell_type": "markdown",
   "metadata": {},
   "source": [
    "# Proposal Instructions\n",
    "\n",
    "For the project proposal, you must select a dataset for your final project and do an initial description of how you will address the dataset in your project.\n",
    "\n",
    "**Selection of the dataset** is on a competitive, first-come, basis, each student should have a different dataset to work with. Be the first to **claim your selection** at the [selection web site](https://www.cs.mun.ca/~brown/6934/signupProject/projselect.php) https://www.cs.mun.ca/~brown/6934/signupProject/projselect.php\n",
    "* Approval of your selection will be based on the character of the data set\n",
    "* enough data points to provide interesting design tasks. Anything under 2000 data points would be considered too small. Smaller data sets with complex data items (such as geometries and/or links) may also be acceptable.\n",
    "* different types of data and/or attributes\n",
    "* real world interesting subject matter (no fake or generated data sets)\n",
    "\n",
    "**Work with a client** if you can. I have recruited a few faculty members who have data visualization problems to work on. I will post these as possible dataset choices. You may recruit your own *reliable* client (such as a faculty member) to work with.  I will provide an information sheet for them and some basic questions for you to ask before making final commitment to working with your client. \n",
    "\n",
    "**Work without a client** if you want. You must find your own dataset to work with and also act as the client by imagining appropriate goals and objectives. I will also post some suggestions for finding a dataset selection without a client.\n",
    "\n",
    "Include these items in your proposal submission.\n",
    "* Introduction to the dataset selection and the client\n",
    "* A preliminary analysis of the data set apply *what* methods\n",
    "* A minimum of three questions regarding the dataset, expressing your client's goals and objectives, suitable for a Munzner style *why* analysis.\n",
    "* Any initial ideas for visualizations, including visuals you do not currently know how to code (you can simply sketch your ideas). Do not limit your ideas to code solutions you are already familiar with.\n",
    "    * Explain what each visual accomplishes in terms of the project goals\n",
    "    * Submit at least three visual designs for feedback. They do not have to be coded.\n",
    "\n",
    "Optionally include any other preliminary ideas for other parts of the final submission. These will not be graded for marks, but you may get some good guidance and feedback."
   ]
  },
  {
   "cell_type": "markdown",
   "metadata": {},
   "source": [
    "# Attributions\n",
    "\n",
    "Be sure to add your own sources or indicate you have none to add.  Sources can be web sites, text materials, and so on. They do not have to be hyperlinks. Other people are also sources.\n",
    "\n",
    "| Source | What is it | How used |\n",
    "|--|--|--|\n",
    "| source goes here | information, analysis ideas, data, code, plots are examples.   | did you copy content, use suggestions, or follow a strategy, and where in your submission does it appear"
   ]
  }
 ],
 "metadata": {
  "kernelspec": {
   "display_name": "Python 3 (ipykernel)",
   "language": "python",
   "name": "python3"
  },
  "language_info": {
   "codemirror_mode": {
    "name": "ipython",
    "version": 3
   },
   "file_extension": ".py",
   "mimetype": "text/x-python",
   "name": "python",
   "nbconvert_exporter": "python",
   "pygments_lexer": "ipython3",
   "version": "3.12.3"
  }
 },
 "nbformat": 4,
 "nbformat_minor": 4
}
