{
 "cells": [
  {
   "cell_type": "markdown",
   "id": "14b3a0d6-cf14-4ef5-b46b-958dc5f40020",
   "metadata": {},
   "source": [
    "# Project Proposal: Visualization of Cybersecurity Intrusion Detection Data\n",
    "\n",
    "- **Course:** COMP 6934 - Intro to Data Visualization\n",
    "- **Student Name | Student ID:** Saravanan Ganesan | 202285057\n",
    "- **Dataset:** CICIDS Collection (Kaggle)  \n",
    "- **Dataset Link:** [https://www.kaggle.com/datasets/dhoogla/cicidscollection](https://www.kaggle.com/datasets/dhoogla/cicidscollection)  "
   ]
  },
  {
   "cell_type": "markdown",
   "id": "32003ee4-595e-4e9e-8497-987a892863ac",
   "metadata": {},
   "source": [
    "## **1. Data Set Selection**\n",
    "\n",
    "### **Dataset Overview:**\n",
    "The **CICIDS Collection** dataset is a compilation of real-world intrusion detection data collected over multiple years by the Canadian Institute for Cybersecurity (CIC). It includes:\n",
    "- **CIC-IDS 2017:** Covers real-world attack scenarios such as Brute Force, SQL Injection, and Botnet attacks. ([Canadian Institute for Cybersecurity](https://www.unb.ca/cic/datasets/ids-2017.html))\n",
    "- **CIC-IDS 2018:** A large-scale dataset spanning multiple days, capturing a variety of network intrusions, including DDoS, Brute Force, Botnet, and Web Attacks. It contains over **2GB+ of traffic logs across multiple CSV files**. ([Canadian Institute for Cybersecurity](https://www.unb.ca/cic/datasets/ids-2018.html))\n",
    "- **CIC-DDoS 2019:** Focuses on **Distributed Denial-of-Service (DDoS) attacks**, capturing various forms of network flooding. ([Canadian Institute for Cybersecurity](https://www.unb.ca/cic/datasets/ddos-2019.html))\n",
    "- **CIC-Bell-DNS 2021:** Targets **malicious DNS tunneling** and domain-based attacks to analyze covert data exfiltration.\n",
    " ([Canadian Institute for Cybersecurity](https://www.unb.ca/cic/datasets/bell-dns-2021.html))\n",
    "\n",
    "### **What Analysis (Brief Justification for Selection):**\n",
    "- **Sufficient Data Types & Attributes:**\n",
    "  - Features include **flow duration, packet length, protocol type, service ports, header length, and attack labels**.\n",
    "  - The datasets contain diverse network behaviors, making them ideal for **intrusion detection visualization**.\n",
    "- **Complete Dataset Analysis:**\n",
    "  - The datasets provide **billions of network flow records**, ensuring rich data for meaningful visualizations.\n",
    "  - Attack classifications such as **benign vs malicious traffic** enable clear security insights.\n",
    "- **Sufficient Data Volume for Interesting Visualizations:**\n",
    "  - Data is **high-dimensional**, supporting multi-attribute analysis across **multiple attack vectors**.\n",
    "  - The datasets allow for **comparative study** across different years and attack types."
   ]
  },
  {
   "cell_type": "markdown",
   "id": "645b3669-a1f4-4897-bcff-b898c06b5dd6",
   "metadata": {},
   "source": [
    "## **2. Client Goals & Three Questions**\n",
    "### **Client Goals & Munzner-Style Why Analysis:**\n",
    "Since I am not working with an external client, I will act as the client and define relevant cybersecurity objectives:\n",
    "\n",
    "1. **How do DDoS and other intrusion patterns evolve over time?**\n",
    "   - **Why?** Understanding how attacks develop over months/years helps security teams improve detection.\n",
    "   - **Potential Actions:** **Time-series visualizations** to highlight attack frequency trends.\n",
    "\n",
    "2. **Which network protocols and services are most targeted?**\n",
    "   - **Why?** Identifying the most vulnerable areas helps optimize firewalls and IDS configurations.\n",
    "   - **Potential Actions:** A **radar chart** visualizing attack frequency by protocol type.\n",
    "\n",
    "3. **Can we detect relationships between different attack vectors?**\n",
    "   - **Why?** Identifying correlations between attack types can improve predictive security measures.\n",
    "   - **Potential Actions:** A **network graph** showing attack relationships across different datasets."
   ]
  },
  {
   "cell_type": "markdown",
   "id": "934cfffd-1293-46ab-874c-23e9e20b84ed",
   "metadata": {},
   "source": [
    "## **3. Initial Ideas for Visualization Designs**\n",
    "\n",
    "Each visualization is designed to demonstrate **creativity, multiple data attributes, and novel design approaches** beyond simple charts.\n",
    "\n",
    "### **3.1. Cyber Attack Heatmap**\n",
    "- **Purpose:** Visualize attack intensity over time.\n",
    "- **Design:** Grid-based heatmap where each cell represents attack frequency at a given time interval.\n",
    "- **How Analysis:**\n",
    "  - Uses **timestamps (flow duration)** and **attack labels**.\n",
    "  - **Marks:** Color intensity shows attack severity.\n",
    "  - **Channels:** Time on X-axis, attack type on Y-axis.\n",
    "- **Creativity:** Enhances traditional heatmaps with **real-time streaming updates**.\n",
    "\n",
    "### **3.2. Intrusion Constellation (Network Graph)**\n",
    "- **Purpose:** Show relationships between attacker and target network nodes.\n",
    "- **Design:**\n",
    "  - Nodes = Source & Destination IPs\n",
    "  - Edges = Attack occurrences\n",
    "  - Color = Attack type (benign/malicious)\n",
    "- **How Analysis:**\n",
    "  - **Marks:** Nodes and edges.\n",
    "  - **Channels:** Edge thickness for attack frequency, node size for severity.\n",
    "- **Creativity:** Converts **static logs into an interactive visualization** using **D3.js or NetworkX**.\n",
    "\n",
    "### **3.3. Network Traffic Radar Chart**\n",
    "- **Purpose:** Identify the most attacked protocols.\n",
    "- **Design:** Radar chart where each axis represents a **protocol (TCP, UDP, HTTP, DNS, etc.)**.\n",
    "- **How Analysis:**\n",
    "  - **Marks:** Circular axes and attack data.\n",
    "  - **Channels:** Color intensity per protocol shows attack volume.\n",
    "- **Creativity:** This radar chart allows for easy **comparative security analysis**."
   ]
  },
  {
   "cell_type": "markdown",
   "id": "461e83ec-c9b4-4e3f-abb5-31af6b78dd59",
   "metadata": {},
   "source": [
    "## **4. Conclusion**\n",
    "This project aims to provide a comprehensive visual exploration of cybersecurity threats using real-world intrusion detection datasets. Through **heatmaps, network graphs, and radar charts**, I will:\n",
    "- **Enhance cybersecurity threat detection.**\n",
    "- **Deliver intuitive, data-driven security insights.**\n",
    "- **Push the boundaries of conventional cybersecurity visualizations.**"
   ]
  },
  {
   "cell_type": "markdown",
   "id": "8bfa46e1-5f9d-4d2a-89c2-da588ceea726",
   "metadata": {},
   "source": [
    "## **5. Attributions**\n",
    "| Component | Source |\n",
    "|-----------|--------|\n",
    "| Dataset | Kaggle - CICIDS Collection ([https://www.kaggle.com/datasets/dhoogla/cicidscollection](https://www.kaggle.com/datasets/dhoogla/cicidscollection)) |\n",
    "| Visualization Techniques | Inspired by cybersecurity reports and real-world security dashboards |\n",
    "| Design Methodology | Munzner-style **Why-What-How** framework |\n",
    "| Libraries To Be Used | Pandas, Matplotlib, Seaborn, NetworkX, Plotly |"
   ]
  },
  {
   "cell_type": "code",
   "execution_count": null,
   "id": "cc611136-ae37-41b4-b2cc-0ea0f47e13f7",
   "metadata": {},
   "outputs": [],
   "source": []
  }
 ],
 "metadata": {
  "kernelspec": {
   "display_name": "Python 3 (ipykernel)",
   "language": "python",
   "name": "python3"
  },
  "language_info": {
   "codemirror_mode": {
    "name": "ipython",
    "version": 3
   },
   "file_extension": ".py",
   "mimetype": "text/x-python",
   "name": "python",
   "nbconvert_exporter": "python",
   "pygments_lexer": "ipython3",
   "version": "3.13.1"
  }
 },
 "nbformat": 4,
 "nbformat_minor": 5
}
